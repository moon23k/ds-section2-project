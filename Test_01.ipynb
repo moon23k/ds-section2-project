{
 "cells": [
  {
   "cell_type": "markdown",
   "id": "completed-meaning",
   "metadata": {},
   "source": [
    "# Test_01\n",
    "---"
   ]
  },
  {
   "cell_type": "markdown",
   "id": "controlled-crisis",
   "metadata": {},
   "source": [
    "## Test_01 Description\n",
    "\n",
    "Test_01에서는 원본 텍스트 데이터로부터 임의의 특성을 설정 및 추출해서\n",
    "\n",
    "악의성 글을 분류하는 모델을 구축하여, 판별 정확도를 측정하는 실험을 진행한다."
   ]
  },
  {
   "cell_type": "markdown",
   "id": "level-silly",
   "metadata": {},
   "source": [
    "### | Import basic packages"
   ]
  },
  {
   "cell_type": "code",
   "execution_count": 1,
   "id": "automotive-genome",
   "metadata": {},
   "outputs": [],
   "source": [
    "import pandas as pd\n",
    "import numpy as np\n",
    "import warnings\n",
    "import IPython.display\n",
    "import matplotlib.pyplot as plt\n",
    "import seaborn as sns\n",
    "\n",
    "%matplotlib inline\n",
    "warnings.filterwarnings('ignore')"
   ]
  },
  {
   "cell_type": "markdown",
   "id": "located-flash",
   "metadata": {},
   "source": [
    "### | Load Data"
   ]
  },
  {
   "cell_type": "code",
   "execution_count": 2,
   "id": "roman-circus",
   "metadata": {},
   "outputs": [],
   "source": [
    "d_path = 'jigsaw-toxic-comment-classification-challenge'\n",
    "original_df = pd.read_csv(d_path + '/train.csv')\n",
    "\n",
    "# 텍스트 Feature만을 담고 있는 df texts 정의\n",
    "texts = original_df['comment_text'].to_frame()\n",
    "\n",
    "# 악의성 여부만을 담고 있는 df label 정의\n",
    "label = original_df.iloc[:, 2:].sum(axis=1).map(lambda x : 1 if x > 0 else 0).to_frame().rename(columns={0 : 'label'})"
   ]
  },
  {
   "cell_type": "code",
   "execution_count": 3,
   "id": "express-gross",
   "metadata": {},
   "outputs": [
    {
     "data": {
      "text/html": [
       "<div>\n",
       "<style scoped>\n",
       "    .dataframe tbody tr th:only-of-type {\n",
       "        vertical-align: middle;\n",
       "    }\n",
       "\n",
       "    .dataframe tbody tr th {\n",
       "        vertical-align: top;\n",
       "    }\n",
       "\n",
       "    .dataframe thead th {\n",
       "        text-align: right;\n",
       "    }\n",
       "</style>\n",
       "<table border=\"1\" class=\"dataframe\">\n",
       "  <thead>\n",
       "    <tr style=\"text-align: right;\">\n",
       "      <th></th>\n",
       "      <th>id</th>\n",
       "      <th>comment_text</th>\n",
       "      <th>toxic</th>\n",
       "      <th>severe_toxic</th>\n",
       "      <th>obscene</th>\n",
       "      <th>threat</th>\n",
       "      <th>insult</th>\n",
       "      <th>identity_hate</th>\n",
       "    </tr>\n",
       "  </thead>\n",
       "  <tbody>\n",
       "    <tr>\n",
       "      <th>0</th>\n",
       "      <td>0000997932d777bf</td>\n",
       "      <td>Explanation\\nWhy the edits made under my usern...</td>\n",
       "      <td>0</td>\n",
       "      <td>0</td>\n",
       "      <td>0</td>\n",
       "      <td>0</td>\n",
       "      <td>0</td>\n",
       "      <td>0</td>\n",
       "    </tr>\n",
       "    <tr>\n",
       "      <th>1</th>\n",
       "      <td>000103f0d9cfb60f</td>\n",
       "      <td>D'aww! He matches this background colour I'm s...</td>\n",
       "      <td>0</td>\n",
       "      <td>0</td>\n",
       "      <td>0</td>\n",
       "      <td>0</td>\n",
       "      <td>0</td>\n",
       "      <td>0</td>\n",
       "    </tr>\n",
       "    <tr>\n",
       "      <th>2</th>\n",
       "      <td>000113f07ec002fd</td>\n",
       "      <td>Hey man, I'm really not trying to edit war. It...</td>\n",
       "      <td>0</td>\n",
       "      <td>0</td>\n",
       "      <td>0</td>\n",
       "      <td>0</td>\n",
       "      <td>0</td>\n",
       "      <td>0</td>\n",
       "    </tr>\n",
       "    <tr>\n",
       "      <th>3</th>\n",
       "      <td>0001b41b1c6bb37e</td>\n",
       "      <td>\"\\nMore\\nI can't make any real suggestions on ...</td>\n",
       "      <td>0</td>\n",
       "      <td>0</td>\n",
       "      <td>0</td>\n",
       "      <td>0</td>\n",
       "      <td>0</td>\n",
       "      <td>0</td>\n",
       "    </tr>\n",
       "    <tr>\n",
       "      <th>4</th>\n",
       "      <td>0001d958c54c6e35</td>\n",
       "      <td>You, sir, are my hero. Any chance you remember...</td>\n",
       "      <td>0</td>\n",
       "      <td>0</td>\n",
       "      <td>0</td>\n",
       "      <td>0</td>\n",
       "      <td>0</td>\n",
       "      <td>0</td>\n",
       "    </tr>\n",
       "  </tbody>\n",
       "</table>\n",
       "</div>"
      ],
      "text/plain": [
       "                 id                                       comment_text  toxic  \\\n",
       "0  0000997932d777bf  Explanation\\nWhy the edits made under my usern...      0   \n",
       "1  000103f0d9cfb60f  D'aww! He matches this background colour I'm s...      0   \n",
       "2  000113f07ec002fd  Hey man, I'm really not trying to edit war. It...      0   \n",
       "3  0001b41b1c6bb37e  \"\\nMore\\nI can't make any real suggestions on ...      0   \n",
       "4  0001d958c54c6e35  You, sir, are my hero. Any chance you remember...      0   \n",
       "\n",
       "   severe_toxic  obscene  threat  insult  identity_hate  \n",
       "0             0        0       0       0              0  \n",
       "1             0        0       0       0              0  \n",
       "2             0        0       0       0              0  \n",
       "3             0        0       0       0              0  \n",
       "4             0        0       0       0              0  "
      ]
     },
     "metadata": {},
     "output_type": "display_data"
    }
   ],
   "source": [
    "display(original_df.head())"
   ]
  },
  {
   "cell_type": "markdown",
   "id": "corporate-permit",
   "metadata": {},
   "source": [
    "### | Data Description\n",
    "\n",
    "원본 데이터는 하나의 텍스트 컬럼과 6개의 Label 컬럼으로 이루어진 데이터이다.\n",
    "\n",
    "Label에서는 악의적인, 심각하게 악의적인, 외설적인, 위협적인, 모욕적인, 정체성 혐오적인 글의 여부를 0과 1로 이루어진 2진 데이터 형태로 표현하고 있다.\n",
    "\n",
    "분류하고자하는 문제는 세부적인 악의성 분류가 아닌, 포괄적인 악의성여부를 판별하는 것이므로 악의성 여부만을 기준으로 0과 1로 이루어진 2진 데이터 형태로 변환하여 사용할 것이다."
   ]
  },
  {
   "cell_type": "markdown",
   "id": "olive-throat",
   "metadata": {},
   "source": [
    "### | Tokenize Data"
   ]
  },
  {
   "cell_type": "code",
   "execution_count": 4,
   "id": "legitimate-brush",
   "metadata": {},
   "outputs": [],
   "source": [
    "from d_pre import tokenize, make_features, make_features2\n",
    "\n",
    "token_words = tokenize(texts)"
   ]
  },
  {
   "cell_type": "code",
   "execution_count": 5,
   "id": "comprehensive-moderator",
   "metadata": {},
   "outputs": [],
   "source": [
    "token_df = pd.concat([token_words, label], axis=1)"
   ]
  },
  {
   "cell_type": "markdown",
   "id": "special-demonstration",
   "metadata": {},
   "source": [
    "### | 모델 구축을 위한 Working DataFrame 정의\n",
    "\n",
    "w_df는 기존 하나의 텍스트 정보를 바탕으로 생성한 11가지의 컬럼 정보가 포함된 df로, 각각의 특성은 다음과 같다.\n",
    "\n",
    "    1. 문장전체의 길이\n",
    "    2. 개행문자의 개수\n",
    "    3. You라는 지칭 대명사의 사용횟수\n",
    "    4. 대문자의 사용횟수\n",
    "    5. 느낌표 사용횟수\n",
    "    6. 물음표 사용횟수\n",
    "    7. Smile Emoji 사용횟수\n",
    "    8. Stop Words 사용횟수\n",
    "    9. Punctuation 사용횟수\n",
    "    10. 비속어 사용횟수\n",
    "    11. 최빈 반복단어의 빈도수"
   ]
  },
  {
   "cell_type": "code",
   "execution_count": 6,
   "id": "understanding-allen",
   "metadata": {},
   "outputs": [],
   "source": [
    "w_df = pd.concat([make_features(texts), make_features2(token_words)], axis=1)"
   ]
  },
  {
   "cell_type": "code",
   "execution_count": 7,
   "id": "prompt-isolation",
   "metadata": {},
   "outputs": [],
   "source": [
    "# 생성한 Feature정보와 Label 정보를 병합\n",
    "w_df = pd.concat([w_df, label], axis=1)"
   ]
  },
  {
   "cell_type": "markdown",
   "id": "accurate-sunday",
   "metadata": {},
   "source": [
    "### | Feature들 간의 상관계수"
   ]
  },
  {
   "cell_type": "code",
   "execution_count": 8,
   "id": "actual-polish",
   "metadata": {
    "scrolled": true
   },
   "outputs": [
    {
     "data": {
      "text/plain": [
       "tot_len     tot_len       1.000000\n",
       "stop_words  tot_len       0.934919\n",
       "most_rep    profanity     0.699159\n",
       "tot_len     nl            0.611998\n",
       "Cap         most_rep      0.564732\n",
       "nl          stop_words    0.515098\n",
       "profanity   Cap           0.511781\n",
       "tot_len     you           0.381788\n",
       "Cap         tot_len       0.370348\n",
       "nl          punc          0.361277\n",
       "dtype: float64"
      ]
     },
     "execution_count": 8,
     "metadata": {},
     "output_type": "execute_result"
    }
   ],
   "source": [
    "w_df.corr().unstack().sort_values(ascending=False).drop_duplicates()[:10]"
   ]
  },
  {
   "cell_type": "markdown",
   "id": "turkish-thailand",
   "metadata": {},
   "source": [
    "### | Train, Validation, Test Dataset Split"
   ]
  },
  {
   "cell_type": "code",
   "execution_count": 9,
   "id": "combined-atlanta",
   "metadata": {},
   "outputs": [],
   "source": [
    "from sklearn.model_selection import train_test_split\n",
    "from sklearn.metrics import f1_score\n",
    "\n",
    "\n",
    "label_name = 'label'\n",
    "feature_names = w_df.drop(columns=label_name).columns\n",
    "\n",
    "\n",
    "train_ratio = 0.70\n",
    "val_ratio = 0.15\n",
    "test_ratio = 0.15\n",
    "\n",
    "# Train Test Split\n",
    "X_train, X_test, y_train, y_test = train_test_split(w_df[feature_names], \n",
    "                                                    w_df[label_name], \n",
    "                                                    test_size=1 - train_ratio, \n",
    "                                                    stratify=w_df[label_name], \n",
    "                                                    random_state=42)\n",
    "\n",
    "# Validation Test Split\n",
    "X_val, X_test, y_val, y_test = train_test_split(X_test, \n",
    "                                                y_test, \n",
    "                                                test_size=test_ratio / (test_ratio + val_ratio), \n",
    "                                                stratify=y_test, \n",
    "                                                random_state=42)"
   ]
  },
  {
   "cell_type": "markdown",
   "id": "residential-butter",
   "metadata": {},
   "source": [
    "### | Model 선언"
   ]
  },
  {
   "cell_type": "code",
   "execution_count": 11,
   "id": "formed-testimony",
   "metadata": {},
   "outputs": [],
   "source": [
    "from sklearn.linear_model import LogisticRegression\n",
    "from sklearn.tree import DecisionTreeClassifier\n",
    "from sklearn.ensemble import RandomForestClassifier\n",
    "from xgboost import XGBClassifier\n",
    "\n",
    "lr_clf = LogisticRegression(n_jobs=-1, random_state=42)\n",
    "dt_clf = DecisionTreeClassifier(criterion='entropy', random_state=42)\n",
    "rf_clf = RandomForestClassifier(criterion='entropy', oob_score=True, n_jobs=-1, random_state=42)\n",
    "xgb_clf = XGBClassifier(random_state=42)"
   ]
  },
  {
   "cell_type": "markdown",
   "id": "arranged-continent",
   "metadata": {},
   "source": [
    "### | Model Fitting"
   ]
  },
  {
   "cell_type": "code",
   "execution_count": 12,
   "id": "surface-lawrence",
   "metadata": {},
   "outputs": [
    {
     "name": "stdout",
     "output_type": "stream",
     "text": [
      "[13:52:23] WARNING: /home/conda/feedstock_root/build_artifacts/xgboost_1607604574104/work/src/learner.cc:1061: Starting in XGBoost 1.3.0, the default evaluation metric used with the objective 'binary:logistic' was changed from 'error' to 'logloss'. Explicitly set eval_metric if you'd like to restore the old behavior.\n"
     ]
    },
    {
     "data": {
      "text/plain": [
       "XGBClassifier(base_score=0.5, booster='gbtree', colsample_bylevel=1,\n",
       "              colsample_bynode=1, colsample_bytree=1, gamma=0, gpu_id=-1,\n",
       "              importance_type='gain', interaction_constraints='',\n",
       "              learning_rate=0.300000012, max_delta_step=0, max_depth=6,\n",
       "              min_child_weight=1, missing=nan, monotone_constraints='()',\n",
       "              n_estimators=100, n_jobs=8, num_parallel_tree=1, random_state=42,\n",
       "              reg_alpha=0, reg_lambda=1, scale_pos_weight=1, subsample=1,\n",
       "              tree_method='exact', validate_parameters=1, verbosity=None)"
      ]
     },
     "execution_count": 12,
     "metadata": {},
     "output_type": "execute_result"
    }
   ],
   "source": [
    "lr_clf.fit(X_train, y_train)\n",
    "dt_clf.fit(X_train, y_train)\n",
    "rf_clf.fit(X_train, y_train)\n",
    "xgb_clf.fit(X_train, y_train)"
   ]
  },
  {
   "cell_type": "markdown",
   "id": "prime-brush",
   "metadata": {},
   "source": [
    "### | Validation에 대한 예측값 생성"
   ]
  },
  {
   "cell_type": "code",
   "execution_count": 13,
   "id": "accompanied-soccer",
   "metadata": {},
   "outputs": [],
   "source": [
    "std_pred = np.zeros_like(y_val.values) # 기준모델\n",
    "lr_pred = lr_clf.predict(X_val)\n",
    "dt_pred = dt_clf.predict(X_val)\n",
    "rf_pred = rf_clf.predict(X_val)\n",
    "xgb_pred = xgb_clf.predict(X_val)"
   ]
  },
  {
   "cell_type": "markdown",
   "id": "forward-winning",
   "metadata": {},
   "source": [
    "### | validation set에 대한 F1_score 측정"
   ]
  },
  {
   "cell_type": "code",
   "execution_count": 15,
   "id": "administrative-portable",
   "metadata": {
    "scrolled": true
   },
   "outputs": [
    {
     "name": "stdout",
     "output_type": "stream",
     "text": [
      "std_pred's f1_score : 0.8983121657754011\n",
      "lr_pred's f1_score : 0.9367897727272727\n",
      "dt_pred's f1_score : 0.9270554812834224\n",
      "rf_pred's f1_score : 0.9496574197860963\n",
      "xgb_pred's f1_score : 0.9526654411764706\n"
     ]
    }
   ],
   "source": [
    "predictions = [std_pred, lr_pred, dt_pred, rf_pred, xgb_pred]\n",
    "predic_names = ['std_pred', 'lr_pred', 'dt_pred', 'rf_pred', 'xgb_pred']\n",
    "\n",
    "for pred, name in zip(predictions, predic_names):\n",
    "    print('{}\\'s f1_score : {}'.format(name, f1_score(y_val, pred, average='micro')))"
   ]
  },
  {
   "cell_type": "markdown",
   "id": "individual-placement",
   "metadata": {},
   "source": [
    "### | XGBoost Model Hyperparameter Tuning"
   ]
  },
  {
   "cell_type": "code",
   "execution_count": 20,
   "id": "circular-consensus",
   "metadata": {},
   "outputs": [],
   "source": [
    "# Hyperparameter Tuning을 위한 파라미터값 기설정 및 RandomSearchCV 객체 생성\n",
    "\n",
    "from sklearn.model_selection import RandomizedSearchCV\n",
    "\n",
    "\n",
    "params = {'min_child_weight': [0.1, 1, 5, 10, 50],\n",
    "          'gamma': [0.5, 1, 1.5, 2, 5],\n",
    "          'subsample': [0.6, 0.8, 1.0],\n",
    "          'colsample_bytree': [0.6, 0.8, 1.0],\n",
    "          'max_depth': [5, 10, 25, 50],\n",
    "          'learning_rate': [0.0001, 0.001, 0.01],\n",
    "          'n_estimators': [50, 100, 250, 500]\n",
    "          }\n",
    "\n",
    "\n",
    "fit_params = {\"early_stopping_rounds\":10, \n",
    "              \"eval_set\" : [[X_val, y_val]]\n",
    "              }\n",
    "\n",
    "\n",
    "random_search = RandomizedSearchCV(XGBClassifier(random_state=42), \n",
    "                                   cv=3,\n",
    "                                   param_distributions=params, \n",
    "                                   n_iter=10, \n",
    "                                   scoring='f1_micro', \n",
    "                                   n_jobs=-1,\n",
    "                                   verbose=1, \n",
    "                                   random_state=42,\n",
    "                                  )"
   ]
  },
  {
   "cell_type": "code",
   "execution_count": 21,
   "id": "whole-somewhere",
   "metadata": {
    "scrolled": true
   },
   "outputs": [
    {
     "name": "stdout",
     "output_type": "stream",
     "text": [
      "Fitting 3 folds for each of 10 candidates, totalling 30 fits\n",
      "[14:04:25] WARNING: /home/conda/feedstock_root/build_artifacts/xgboost_1607604574104/work/src/learner.cc:1061: Starting in XGBoost 1.3.0, the default evaluation metric used with the objective 'binary:logistic' was changed from 'error' to 'logloss'. Explicitly set eval_metric if you'd like to restore the old behavior.\n",
      "[0]\tvalidation_0-logloss:0.68477\n",
      "[1]\tvalidation_0-logloss:0.67652\n",
      "[2]\tvalidation_0-logloss:0.66844\n",
      "[3]\tvalidation_0-logloss:0.66053\n",
      "[4]\tvalidation_0-logloss:0.65275\n",
      "[5]\tvalidation_0-logloss:0.64516\n",
      "[6]\tvalidation_0-logloss:0.63765\n",
      "[7]\tvalidation_0-logloss:0.63026\n",
      "[8]\tvalidation_0-logloss:0.62431\n",
      "[9]\tvalidation_0-logloss:0.61716\n",
      "[10]\tvalidation_0-logloss:0.61140\n",
      "[11]\tvalidation_0-logloss:0.60451\n",
      "[12]\tvalidation_0-logloss:0.59781\n",
      "[13]\tvalidation_0-logloss:0.59235\n",
      "[14]\tvalidation_0-logloss:0.58580\n",
      "[15]\tvalidation_0-logloss:0.57935\n",
      "[16]\tvalidation_0-logloss:0.57302\n",
      "[17]\tvalidation_0-logloss:0.56800\n",
      "[18]\tvalidation_0-logloss:0.56189\n",
      "[19]\tvalidation_0-logloss:0.55585\n",
      "[20]\tvalidation_0-logloss:0.54995\n",
      "[21]\tvalidation_0-logloss:0.54414\n",
      "[22]\tvalidation_0-logloss:0.53950\n",
      "[23]\tvalidation_0-logloss:0.53497\n",
      "[24]\tvalidation_0-logloss:0.52939\n",
      "[25]\tvalidation_0-logloss:0.52394\n",
      "[26]\tvalidation_0-logloss:0.51860\n",
      "[27]\tvalidation_0-logloss:0.51434\n",
      "[28]\tvalidation_0-logloss:0.51012\n",
      "[29]\tvalidation_0-logloss:0.50505\n",
      "[30]\tvalidation_0-logloss:0.49997\n",
      "[31]\tvalidation_0-logloss:0.49503\n",
      "[32]\tvalidation_0-logloss:0.49011\n",
      "[33]\tvalidation_0-logloss:0.48528\n",
      "[34]\tvalidation_0-logloss:0.48055\n",
      "[35]\tvalidation_0-logloss:0.47587\n",
      "[36]\tvalidation_0-logloss:0.47134\n",
      "[37]\tvalidation_0-logloss:0.46682\n",
      "[38]\tvalidation_0-logloss:0.46235\n",
      "[39]\tvalidation_0-logloss:0.45800\n",
      "[40]\tvalidation_0-logloss:0.45369\n",
      "[41]\tvalidation_0-logloss:0.44940\n",
      "[42]\tvalidation_0-logloss:0.44518\n",
      "[43]\tvalidation_0-logloss:0.44106\n",
      "[44]\tvalidation_0-logloss:0.43698\n",
      "[45]\tvalidation_0-logloss:0.43297\n",
      "[46]\tvalidation_0-logloss:0.42902\n",
      "[47]\tvalidation_0-logloss:0.42515\n",
      "[48]\tvalidation_0-logloss:0.42131\n",
      "[49]\tvalidation_0-logloss:0.41754\n",
      "[50]\tvalidation_0-logloss:0.41381\n",
      "[51]\tvalidation_0-logloss:0.41015\n",
      "[52]\tvalidation_0-logloss:0.40727\n",
      "[53]\tvalidation_0-logloss:0.40371\n",
      "[54]\tvalidation_0-logloss:0.40021\n",
      "[55]\tvalidation_0-logloss:0.39745\n",
      "[56]\tvalidation_0-logloss:0.39401\n",
      "[57]\tvalidation_0-logloss:0.39063\n",
      "[58]\tvalidation_0-logloss:0.38728\n",
      "[59]\tvalidation_0-logloss:0.38400\n",
      "[60]\tvalidation_0-logloss:0.38079\n",
      "[61]\tvalidation_0-logloss:0.37759\n",
      "[62]\tvalidation_0-logloss:0.37444\n",
      "[63]\tvalidation_0-logloss:0.37199\n",
      "[64]\tvalidation_0-logloss:0.36962\n",
      "[65]\tvalidation_0-logloss:0.36658\n",
      "[66]\tvalidation_0-logloss:0.36360\n",
      "[67]\tvalidation_0-logloss:0.36129\n",
      "[68]\tvalidation_0-logloss:0.35837\n",
      "[69]\tvalidation_0-logloss:0.35551\n",
      "[70]\tvalidation_0-logloss:0.35328\n",
      "[71]\tvalidation_0-logloss:0.35051\n",
      "[72]\tvalidation_0-logloss:0.34773\n",
      "[73]\tvalidation_0-logloss:0.34500\n",
      "[74]\tvalidation_0-logloss:0.34230\n",
      "[75]\tvalidation_0-logloss:0.33965\n",
      "[76]\tvalidation_0-logloss:0.33759\n",
      "[77]\tvalidation_0-logloss:0.33564\n",
      "[78]\tvalidation_0-logloss:0.33307\n",
      "[79]\tvalidation_0-logloss:0.33052\n",
      "[80]\tvalidation_0-logloss:0.32860\n",
      "[81]\tvalidation_0-logloss:0.32611\n",
      "[82]\tvalidation_0-logloss:0.32369\n",
      "[83]\tvalidation_0-logloss:0.32127\n",
      "[84]\tvalidation_0-logloss:0.31891\n",
      "[85]\tvalidation_0-logloss:0.31660\n",
      "[86]\tvalidation_0-logloss:0.31482\n",
      "[87]\tvalidation_0-logloss:0.31252\n",
      "[88]\tvalidation_0-logloss:0.31027\n",
      "[89]\tvalidation_0-logloss:0.30804\n",
      "[90]\tvalidation_0-logloss:0.30584\n",
      "[91]\tvalidation_0-logloss:0.30365\n",
      "[92]\tvalidation_0-logloss:0.30152\n",
      "[93]\tvalidation_0-logloss:0.29941\n",
      "[94]\tvalidation_0-logloss:0.29732\n",
      "[95]\tvalidation_0-logloss:0.29525\n",
      "[96]\tvalidation_0-logloss:0.29369\n",
      "[97]\tvalidation_0-logloss:0.29213\n",
      "[98]\tvalidation_0-logloss:0.29013\n",
      "[99]\tvalidation_0-logloss:0.28817\n",
      "[100]\tvalidation_0-logloss:0.28623\n",
      "[101]\tvalidation_0-logloss:0.28479\n",
      "[102]\tvalidation_0-logloss:0.28289\n",
      "[103]\tvalidation_0-logloss:0.28104\n",
      "[104]\tvalidation_0-logloss:0.27918\n",
      "[105]\tvalidation_0-logloss:0.27735\n",
      "[106]\tvalidation_0-logloss:0.27555\n",
      "[107]\tvalidation_0-logloss:0.27426\n",
      "[108]\tvalidation_0-logloss:0.27293\n",
      "[109]\tvalidation_0-logloss:0.27119\n",
      "[110]\tvalidation_0-logloss:0.26948\n",
      "[111]\tvalidation_0-logloss:0.26819\n",
      "[112]\tvalidation_0-logloss:0.26650\n",
      "[113]\tvalidation_0-logloss:0.26486\n",
      "[114]\tvalidation_0-logloss:0.26367\n",
      "[115]\tvalidation_0-logloss:0.26204\n",
      "[116]\tvalidation_0-logloss:0.26045\n",
      "[117]\tvalidation_0-logloss:0.25886\n",
      "[118]\tvalidation_0-logloss:0.25729\n",
      "[119]\tvalidation_0-logloss:0.25573\n",
      "[120]\tvalidation_0-logloss:0.25421\n",
      "[121]\tvalidation_0-logloss:0.25308\n",
      "[122]\tvalidation_0-logloss:0.25159\n",
      "[123]\tvalidation_0-logloss:0.25052\n",
      "[124]\tvalidation_0-logloss:0.24946\n",
      "[125]\tvalidation_0-logloss:0.24839\n",
      "[126]\tvalidation_0-logloss:0.24695\n",
      "[127]\tvalidation_0-logloss:0.24553\n",
      "[128]\tvalidation_0-logloss:0.24412\n",
      "[129]\tvalidation_0-logloss:0.24273\n",
      "[130]\tvalidation_0-logloss:0.24136\n",
      "[131]\tvalidation_0-logloss:0.24002\n",
      "[132]\tvalidation_0-logloss:0.23904\n",
      "[133]\tvalidation_0-logloss:0.23809\n",
      "[134]\tvalidation_0-logloss:0.23677\n",
      "[135]\tvalidation_0-logloss:0.23547\n",
      "[136]\tvalidation_0-logloss:0.23420\n",
      "[137]\tvalidation_0-logloss:0.23336\n",
      "[138]\tvalidation_0-logloss:0.23210\n",
      "[139]\tvalidation_0-logloss:0.23087\n",
      "[140]\tvalidation_0-logloss:0.23004\n",
      "[141]\tvalidation_0-logloss:0.22882\n",
      "[142]\tvalidation_0-logloss:0.22762\n",
      "[143]\tvalidation_0-logloss:0.22643\n",
      "[144]\tvalidation_0-logloss:0.22525\n",
      "[145]\tvalidation_0-logloss:0.22443\n",
      "[146]\tvalidation_0-logloss:0.22330\n",
      "[147]\tvalidation_0-logloss:0.22217\n",
      "[148]\tvalidation_0-logloss:0.22106\n",
      "[149]\tvalidation_0-logloss:0.22029\n",
      "[150]\tvalidation_0-logloss:0.21920\n",
      "[151]\tvalidation_0-logloss:0.21813\n",
      "[152]\tvalidation_0-logloss:0.21705\n",
      "[153]\tvalidation_0-logloss:0.21601\n",
      "[154]\tvalidation_0-logloss:0.21497\n",
      "[155]\tvalidation_0-logloss:0.21428\n",
      "[156]\tvalidation_0-logloss:0.21361\n",
      "[157]\tvalidation_0-logloss:0.21260\n",
      "[158]\tvalidation_0-logloss:0.21161\n",
      "[159]\tvalidation_0-logloss:0.21064\n",
      "[160]\tvalidation_0-logloss:0.20995\n",
      "[161]\tvalidation_0-logloss:0.20898\n",
      "[162]\tvalidation_0-logloss:0.20803\n",
      "[163]\tvalidation_0-logloss:0.20708\n",
      "[164]\tvalidation_0-logloss:0.20614\n",
      "[165]\tvalidation_0-logloss:0.20521\n",
      "[166]\tvalidation_0-logloss:0.20431\n",
      "[167]\tvalidation_0-logloss:0.20340\n",
      "[168]\tvalidation_0-logloss:0.20250\n",
      "[169]\tvalidation_0-logloss:0.20160\n",
      "[170]\tvalidation_0-logloss:0.20073\n",
      "[171]\tvalidation_0-logloss:0.19987\n",
      "[172]\tvalidation_0-logloss:0.19901\n",
      "[173]\tvalidation_0-logloss:0.19817\n",
      "[174]\tvalidation_0-logloss:0.19734\n",
      "[175]\tvalidation_0-logloss:0.19652\n",
      "[176]\tvalidation_0-logloss:0.19571\n",
      "[177]\tvalidation_0-logloss:0.19492\n",
      "[178]\tvalidation_0-logloss:0.19413\n",
      "[179]\tvalidation_0-logloss:0.19336\n",
      "[180]\tvalidation_0-logloss:0.19259\n",
      "[181]\tvalidation_0-logloss:0.19185\n",
      "[182]\tvalidation_0-logloss:0.19111\n",
      "[183]\tvalidation_0-logloss:0.19060\n",
      "[184]\tvalidation_0-logloss:0.18986\n",
      "[185]\tvalidation_0-logloss:0.18938\n",
      "[186]\tvalidation_0-logloss:0.18891\n",
      "[187]\tvalidation_0-logloss:0.18821\n",
      "[188]\tvalidation_0-logloss:0.18776\n",
      "[189]\tvalidation_0-logloss:0.18706\n",
      "[190]\tvalidation_0-logloss:0.18637\n",
      "[191]\tvalidation_0-logloss:0.18592\n",
      "[192]\tvalidation_0-logloss:0.18524\n",
      "[193]\tvalidation_0-logloss:0.18480\n",
      "[194]\tvalidation_0-logloss:0.18413\n",
      "[195]\tvalidation_0-logloss:0.18347\n",
      "[196]\tvalidation_0-logloss:0.18282\n",
      "[197]\tvalidation_0-logloss:0.18218\n",
      "[198]\tvalidation_0-logloss:0.18156\n",
      "[199]\tvalidation_0-logloss:0.18093\n",
      "[200]\tvalidation_0-logloss:0.18053\n",
      "[201]\tvalidation_0-logloss:0.17991\n",
      "[202]\tvalidation_0-logloss:0.17932\n",
      "[203]\tvalidation_0-logloss:0.17871\n",
      "[204]\tvalidation_0-logloss:0.17812\n",
      "[205]\tvalidation_0-logloss:0.17774\n",
      "[206]\tvalidation_0-logloss:0.17716\n",
      "[207]\tvalidation_0-logloss:0.17680\n",
      "[208]\tvalidation_0-logloss:0.17643\n",
      "[209]\tvalidation_0-logloss:0.17606\n",
      "[210]\tvalidation_0-logloss:0.17551\n",
      "[211]\tvalidation_0-logloss:0.17494\n",
      "[212]\tvalidation_0-logloss:0.17439\n",
      "[213]\tvalidation_0-logloss:0.17386\n",
      "[214]\tvalidation_0-logloss:0.17333\n",
      "[215]\tvalidation_0-logloss:0.17279\n",
      "[216]\tvalidation_0-logloss:0.17228\n",
      "[217]\tvalidation_0-logloss:0.17177\n",
      "[218]\tvalidation_0-logloss:0.17127\n",
      "[219]\tvalidation_0-logloss:0.17076\n",
      "[220]\tvalidation_0-logloss:0.17045\n",
      "[221]\tvalidation_0-logloss:0.16995\n",
      "[222]\tvalidation_0-logloss:0.16946\n",
      "[223]\tvalidation_0-logloss:0.16915\n",
      "[224]\tvalidation_0-logloss:0.16867\n",
      "[225]\tvalidation_0-logloss:0.16819\n",
      "[226]\tvalidation_0-logloss:0.16789\n"
     ]
    },
    {
     "name": "stdout",
     "output_type": "stream",
     "text": [
      "[227]\tvalidation_0-logloss:0.16742\n",
      "[228]\tvalidation_0-logloss:0.16697\n",
      "[229]\tvalidation_0-logloss:0.16653\n",
      "[230]\tvalidation_0-logloss:0.16608\n",
      "[231]\tvalidation_0-logloss:0.16584\n",
      "[232]\tvalidation_0-logloss:0.16540\n",
      "[233]\tvalidation_0-logloss:0.16497\n",
      "[234]\tvalidation_0-logloss:0.16454\n",
      "[235]\tvalidation_0-logloss:0.16412\n",
      "[236]\tvalidation_0-logloss:0.16371\n",
      "[237]\tvalidation_0-logloss:0.16330\n",
      "[238]\tvalidation_0-logloss:0.16289\n",
      "[239]\tvalidation_0-logloss:0.16250\n",
      "[240]\tvalidation_0-logloss:0.16211\n",
      "[241]\tvalidation_0-logloss:0.16188\n",
      "[242]\tvalidation_0-logloss:0.16149\n",
      "[243]\tvalidation_0-logloss:0.16128\n",
      "[244]\tvalidation_0-logloss:0.16089\n",
      "[245]\tvalidation_0-logloss:0.16066\n",
      "[246]\tvalidation_0-logloss:0.16043\n",
      "[247]\tvalidation_0-logloss:0.16021\n",
      "[248]\tvalidation_0-logloss:0.15999\n",
      "[249]\tvalidation_0-logloss:0.15963\n",
      "[250]\tvalidation_0-logloss:0.15927\n",
      "[251]\tvalidation_0-logloss:0.15906\n",
      "[252]\tvalidation_0-logloss:0.15885\n",
      "[253]\tvalidation_0-logloss:0.15850\n",
      "[254]\tvalidation_0-logloss:0.15831\n",
      "[255]\tvalidation_0-logloss:0.15796\n",
      "[256]\tvalidation_0-logloss:0.15763\n",
      "[257]\tvalidation_0-logloss:0.15730\n",
      "[258]\tvalidation_0-logloss:0.15697\n",
      "[259]\tvalidation_0-logloss:0.15664\n",
      "[260]\tvalidation_0-logloss:0.15630\n",
      "[261]\tvalidation_0-logloss:0.15612\n",
      "[262]\tvalidation_0-logloss:0.15595\n",
      "[263]\tvalidation_0-logloss:0.15562\n",
      "[264]\tvalidation_0-logloss:0.15530\n",
      "[265]\tvalidation_0-logloss:0.15514\n",
      "[266]\tvalidation_0-logloss:0.15482\n",
      "[267]\tvalidation_0-logloss:0.15465\n",
      "[268]\tvalidation_0-logloss:0.15449\n",
      "[269]\tvalidation_0-logloss:0.15419\n",
      "[270]\tvalidation_0-logloss:0.15390\n",
      "[271]\tvalidation_0-logloss:0.15361\n",
      "[272]\tvalidation_0-logloss:0.15331\n",
      "[273]\tvalidation_0-logloss:0.15315\n",
      "[274]\tvalidation_0-logloss:0.15288\n",
      "[275]\tvalidation_0-logloss:0.15260\n",
      "[276]\tvalidation_0-logloss:0.15232\n",
      "[277]\tvalidation_0-logloss:0.15206\n",
      "[278]\tvalidation_0-logloss:0.15179\n",
      "[279]\tvalidation_0-logloss:0.15165\n",
      "[280]\tvalidation_0-logloss:0.15138\n",
      "[281]\tvalidation_0-logloss:0.15125\n",
      "[282]\tvalidation_0-logloss:0.15099\n",
      "[283]\tvalidation_0-logloss:0.15072\n",
      "[284]\tvalidation_0-logloss:0.15059\n",
      "[285]\tvalidation_0-logloss:0.15033\n",
      "[286]\tvalidation_0-logloss:0.15008\n",
      "[287]\tvalidation_0-logloss:0.14983\n",
      "[288]\tvalidation_0-logloss:0.14959\n",
      "[289]\tvalidation_0-logloss:0.14946\n",
      "[290]\tvalidation_0-logloss:0.14921\n",
      "[291]\tvalidation_0-logloss:0.14898\n",
      "[292]\tvalidation_0-logloss:0.14886\n",
      "[293]\tvalidation_0-logloss:0.14874\n",
      "[294]\tvalidation_0-logloss:0.14850\n",
      "[295]\tvalidation_0-logloss:0.14827\n",
      "[296]\tvalidation_0-logloss:0.14805\n",
      "[297]\tvalidation_0-logloss:0.14781\n",
      "[298]\tvalidation_0-logloss:0.14760\n",
      "[299]\tvalidation_0-logloss:0.14740\n",
      "[300]\tvalidation_0-logloss:0.14730\n",
      "[301]\tvalidation_0-logloss:0.14719\n",
      "[302]\tvalidation_0-logloss:0.14698\n",
      "[303]\tvalidation_0-logloss:0.14688\n",
      "[304]\tvalidation_0-logloss:0.14666\n",
      "[305]\tvalidation_0-logloss:0.14645\n",
      "[306]\tvalidation_0-logloss:0.14636\n",
      "[307]\tvalidation_0-logloss:0.14615\n",
      "[308]\tvalidation_0-logloss:0.14606\n",
      "[309]\tvalidation_0-logloss:0.14586\n",
      "[310]\tvalidation_0-logloss:0.14576\n",
      "[311]\tvalidation_0-logloss:0.14567\n",
      "[312]\tvalidation_0-logloss:0.14548\n",
      "[313]\tvalidation_0-logloss:0.14530\n",
      "[314]\tvalidation_0-logloss:0.14519\n",
      "[315]\tvalidation_0-logloss:0.14501\n",
      "[316]\tvalidation_0-logloss:0.14482\n",
      "[317]\tvalidation_0-logloss:0.14464\n",
      "[318]\tvalidation_0-logloss:0.14446\n",
      "[319]\tvalidation_0-logloss:0.14428\n",
      "[320]\tvalidation_0-logloss:0.14410\n",
      "[321]\tvalidation_0-logloss:0.14402\n",
      "[322]\tvalidation_0-logloss:0.14384\n",
      "[323]\tvalidation_0-logloss:0.14375\n",
      "[324]\tvalidation_0-logloss:0.14358\n",
      "[325]\tvalidation_0-logloss:0.14341\n",
      "[326]\tvalidation_0-logloss:0.14325\n",
      "[327]\tvalidation_0-logloss:0.14308\n",
      "[328]\tvalidation_0-logloss:0.14292\n",
      "[329]\tvalidation_0-logloss:0.14276\n",
      "[330]\tvalidation_0-logloss:0.14270\n",
      "[331]\tvalidation_0-logloss:0.14254\n",
      "[332]\tvalidation_0-logloss:0.14247\n",
      "[333]\tvalidation_0-logloss:0.14232\n",
      "[334]\tvalidation_0-logloss:0.14217\n",
      "[335]\tvalidation_0-logloss:0.14203\n",
      "[336]\tvalidation_0-logloss:0.14188\n",
      "[337]\tvalidation_0-logloss:0.14173\n",
      "[338]\tvalidation_0-logloss:0.14158\n",
      "[339]\tvalidation_0-logloss:0.14145\n",
      "[340]\tvalidation_0-logloss:0.14138\n",
      "[341]\tvalidation_0-logloss:0.14124\n",
      "[342]\tvalidation_0-logloss:0.14111\n",
      "[343]\tvalidation_0-logloss:0.14098\n",
      "[344]\tvalidation_0-logloss:0.14085\n",
      "[345]\tvalidation_0-logloss:0.14078\n",
      "[346]\tvalidation_0-logloss:0.14072\n",
      "[347]\tvalidation_0-logloss:0.14066\n",
      "[348]\tvalidation_0-logloss:0.14053\n",
      "[349]\tvalidation_0-logloss:0.14041\n",
      "[350]\tvalidation_0-logloss:0.14028\n",
      "[351]\tvalidation_0-logloss:0.14016\n",
      "[352]\tvalidation_0-logloss:0.14003\n",
      "[353]\tvalidation_0-logloss:0.13990\n",
      "[354]\tvalidation_0-logloss:0.13978\n",
      "[355]\tvalidation_0-logloss:0.13966\n",
      "[356]\tvalidation_0-logloss:0.13954\n",
      "[357]\tvalidation_0-logloss:0.13943\n",
      "[358]\tvalidation_0-logloss:0.13931\n",
      "[359]\tvalidation_0-logloss:0.13926\n",
      "[360]\tvalidation_0-logloss:0.13915\n",
      "[361]\tvalidation_0-logloss:0.13903\n",
      "[362]\tvalidation_0-logloss:0.13898\n",
      "[363]\tvalidation_0-logloss:0.13886\n",
      "[364]\tvalidation_0-logloss:0.13876\n",
      "[365]\tvalidation_0-logloss:0.13864\n",
      "[366]\tvalidation_0-logloss:0.13854\n",
      "[367]\tvalidation_0-logloss:0.13844\n",
      "[368]\tvalidation_0-logloss:0.13834\n",
      "[369]\tvalidation_0-logloss:0.13824\n",
      "[370]\tvalidation_0-logloss:0.13814\n",
      "[371]\tvalidation_0-logloss:0.13805\n",
      "[372]\tvalidation_0-logloss:0.13795\n",
      "[373]\tvalidation_0-logloss:0.13791\n",
      "[374]\tvalidation_0-logloss:0.13781\n",
      "[375]\tvalidation_0-logloss:0.13778\n",
      "[376]\tvalidation_0-logloss:0.13768\n",
      "[377]\tvalidation_0-logloss:0.13763\n",
      "[378]\tvalidation_0-logloss:0.13754\n",
      "[379]\tvalidation_0-logloss:0.13745\n",
      "[380]\tvalidation_0-logloss:0.13736\n",
      "[381]\tvalidation_0-logloss:0.13728\n",
      "[382]\tvalidation_0-logloss:0.13720\n",
      "[383]\tvalidation_0-logloss:0.13712\n",
      "[384]\tvalidation_0-logloss:0.13708\n",
      "[385]\tvalidation_0-logloss:0.13700\n",
      "[386]\tvalidation_0-logloss:0.13691\n",
      "[387]\tvalidation_0-logloss:0.13687\n",
      "[388]\tvalidation_0-logloss:0.13680\n",
      "[389]\tvalidation_0-logloss:0.13672\n",
      "[390]\tvalidation_0-logloss:0.13664\n",
      "[391]\tvalidation_0-logloss:0.13657\n",
      "[392]\tvalidation_0-logloss:0.13649\n",
      "[393]\tvalidation_0-logloss:0.13640\n",
      "[394]\tvalidation_0-logloss:0.13633\n",
      "[395]\tvalidation_0-logloss:0.13625\n",
      "[396]\tvalidation_0-logloss:0.13617\n",
      "[397]\tvalidation_0-logloss:0.13610\n",
      "[398]\tvalidation_0-logloss:0.13604\n",
      "[399]\tvalidation_0-logloss:0.13596\n",
      "[400]\tvalidation_0-logloss:0.13589\n",
      "[401]\tvalidation_0-logloss:0.13587\n",
      "[402]\tvalidation_0-logloss:0.13585\n",
      "[403]\tvalidation_0-logloss:0.13579\n",
      "[404]\tvalidation_0-logloss:0.13571\n",
      "[405]\tvalidation_0-logloss:0.13564\n",
      "[406]\tvalidation_0-logloss:0.13557\n",
      "[407]\tvalidation_0-logloss:0.13551\n",
      "[408]\tvalidation_0-logloss:0.13545\n",
      "[409]\tvalidation_0-logloss:0.13543\n",
      "[410]\tvalidation_0-logloss:0.13538\n",
      "[411]\tvalidation_0-logloss:0.13535\n",
      "[412]\tvalidation_0-logloss:0.13529\n",
      "[413]\tvalidation_0-logloss:0.13523\n",
      "[414]\tvalidation_0-logloss:0.13517\n",
      "[415]\tvalidation_0-logloss:0.13512\n",
      "[416]\tvalidation_0-logloss:0.13510\n",
      "[417]\tvalidation_0-logloss:0.13504\n",
      "[418]\tvalidation_0-logloss:0.13499\n",
      "[419]\tvalidation_0-logloss:0.13497\n",
      "[420]\tvalidation_0-logloss:0.13495\n",
      "[421]\tvalidation_0-logloss:0.13489\n",
      "[422]\tvalidation_0-logloss:0.13484\n",
      "[423]\tvalidation_0-logloss:0.13479\n",
      "[424]\tvalidation_0-logloss:0.13478\n",
      "[425]\tvalidation_0-logloss:0.13473\n",
      "[426]\tvalidation_0-logloss:0.13468\n",
      "[427]\tvalidation_0-logloss:0.13467\n",
      "[428]\tvalidation_0-logloss:0.13462\n",
      "[429]\tvalidation_0-logloss:0.13458\n",
      "[430]\tvalidation_0-logloss:0.13452\n",
      "[431]\tvalidation_0-logloss:0.13447\n",
      "[432]\tvalidation_0-logloss:0.13445\n",
      "[433]\tvalidation_0-logloss:0.13440\n",
      "[434]\tvalidation_0-logloss:0.13435\n",
      "[435]\tvalidation_0-logloss:0.13434\n",
      "[436]\tvalidation_0-logloss:0.13429\n",
      "[437]\tvalidation_0-logloss:0.13424\n",
      "[438]\tvalidation_0-logloss:0.13422\n",
      "[439]\tvalidation_0-logloss:0.13418\n",
      "[440]\tvalidation_0-logloss:0.13415\n",
      "[441]\tvalidation_0-logloss:0.13411\n",
      "[442]\tvalidation_0-logloss:0.13410\n",
      "[443]\tvalidation_0-logloss:0.13405\n",
      "[444]\tvalidation_0-logloss:0.13404\n",
      "[445]\tvalidation_0-logloss:0.13399\n",
      "[446]\tvalidation_0-logloss:0.13395\n",
      "[447]\tvalidation_0-logloss:0.13392\n",
      "[448]\tvalidation_0-logloss:0.13388\n",
      "[449]\tvalidation_0-logloss:0.13384\n",
      "[450]\tvalidation_0-logloss:0.13381\n",
      "[451]\tvalidation_0-logloss:0.13379\n",
      "[452]\tvalidation_0-logloss:0.13376\n",
      "[453]\tvalidation_0-logloss:0.13372\n",
      "[454]\tvalidation_0-logloss:0.13371\n",
      "[455]\tvalidation_0-logloss:0.13368\n",
      "[456]\tvalidation_0-logloss:0.13367\n",
      "[457]\tvalidation_0-logloss:0.13363\n",
      "[458]\tvalidation_0-logloss:0.13360\n",
      "[459]\tvalidation_0-logloss:0.13359\n",
      "[460]\tvalidation_0-logloss:0.13357\n",
      "[461]\tvalidation_0-logloss:0.13356\n"
     ]
    },
    {
     "name": "stdout",
     "output_type": "stream",
     "text": [
      "[462]\tvalidation_0-logloss:0.13356\n",
      "[463]\tvalidation_0-logloss:0.13351\n",
      "[464]\tvalidation_0-logloss:0.13348\n",
      "[465]\tvalidation_0-logloss:0.13345\n",
      "[466]\tvalidation_0-logloss:0.13342\n",
      "[467]\tvalidation_0-logloss:0.13338\n",
      "[468]\tvalidation_0-logloss:0.13335\n",
      "[469]\tvalidation_0-logloss:0.13335\n",
      "[470]\tvalidation_0-logloss:0.13331\n",
      "[471]\tvalidation_0-logloss:0.13328\n",
      "[472]\tvalidation_0-logloss:0.13324\n",
      "[473]\tvalidation_0-logloss:0.13321\n",
      "[474]\tvalidation_0-logloss:0.13321\n",
      "[475]\tvalidation_0-logloss:0.13318\n",
      "[476]\tvalidation_0-logloss:0.13315\n",
      "[477]\tvalidation_0-logloss:0.13313\n",
      "[478]\tvalidation_0-logloss:0.13311\n",
      "[479]\tvalidation_0-logloss:0.13311\n",
      "[480]\tvalidation_0-logloss:0.13310\n",
      "[481]\tvalidation_0-logloss:0.13307\n",
      "[482]\tvalidation_0-logloss:0.13305\n",
      "[483]\tvalidation_0-logloss:0.13303\n",
      "[484]\tvalidation_0-logloss:0.13301\n",
      "[485]\tvalidation_0-logloss:0.13300\n",
      "[486]\tvalidation_0-logloss:0.13299\n",
      "[487]\tvalidation_0-logloss:0.13296\n",
      "[488]\tvalidation_0-logloss:0.13296\n",
      "[489]\tvalidation_0-logloss:0.13294\n",
      "[490]\tvalidation_0-logloss:0.13291\n",
      "[491]\tvalidation_0-logloss:0.13289\n",
      "[492]\tvalidation_0-logloss:0.13287\n",
      "[493]\tvalidation_0-logloss:0.13285\n",
      "[494]\tvalidation_0-logloss:0.13282\n",
      "[495]\tvalidation_0-logloss:0.13279\n",
      "[496]\tvalidation_0-logloss:0.13278\n",
      "[497]\tvalidation_0-logloss:0.13278\n",
      "[498]\tvalidation_0-logloss:0.13276\n",
      "[499]\tvalidation_0-logloss:0.13273\n"
     ]
    },
    {
     "data": {
      "text/plain": [
       "RandomizedSearchCV(cv=3,\n",
       "                   estimator=XGBClassifier(base_score=None, booster=None,\n",
       "                                           colsample_bylevel=None,\n",
       "                                           colsample_bynode=None,\n",
       "                                           colsample_bytree=None, gamma=None,\n",
       "                                           gpu_id=None, importance_type='gain',\n",
       "                                           interaction_constraints=None,\n",
       "                                           learning_rate=None,\n",
       "                                           max_delta_step=None, max_depth=None,\n",
       "                                           min_child_weight=None, missing=nan,\n",
       "                                           monotone_constraints=None,\n",
       "                                           n_estimators=100,...\n",
       "                                           subsample=None, tree_method=None,\n",
       "                                           validate_parameters=None,\n",
       "                                           verbosity=None),\n",
       "                   n_jobs=-1,\n",
       "                   param_distributions={'colsample_bytree': [0.6, 0.8, 1.0],\n",
       "                                        'gamma': [0.5, 1, 1.5, 2, 5],\n",
       "                                        'learning_rate': [0.0001, 0.001, 0.01],\n",
       "                                        'max_depth': [5, 10, 25, 50],\n",
       "                                        'min_child_weight': [0.1, 1, 5, 10, 50],\n",
       "                                        'n_estimators': [50, 100, 250, 500],\n",
       "                                        'subsample': [0.6, 0.8, 1.0]},\n",
       "                   random_state=42, scoring='f1_micro', verbose=1)"
      ]
     },
     "execution_count": 21,
     "metadata": {},
     "output_type": "execute_result"
    }
   ],
   "source": [
    "random_search.fit(X_train, y_train, **fit_params)"
   ]
  },
  {
   "cell_type": "code",
   "execution_count": 22,
   "id": "weekly-conditions",
   "metadata": {
    "scrolled": true
   },
   "outputs": [
    {
     "data": {
      "text/plain": [
       "{'subsample': 0.8,\n",
       " 'n_estimators': 500,\n",
       " 'min_child_weight': 5,\n",
       " 'max_depth': 50,\n",
       " 'learning_rate': 0.01,\n",
       " 'gamma': 1.5,\n",
       " 'colsample_bytree': 0.8}"
      ]
     },
     "execution_count": 22,
     "metadata": {},
     "output_type": "execute_result"
    }
   ],
   "source": [
    "random_search.best_params_"
   ]
  },
  {
   "cell_type": "markdown",
   "id": "thrown-curtis",
   "metadata": {},
   "source": [
    "### | 산출한 Best Parameter 값 적용"
   ]
  },
  {
   "cell_type": "code",
   "execution_count": 23,
   "id": "trained-bicycle",
   "metadata": {},
   "outputs": [],
   "source": [
    "xgb_best_clf = XGBClassifier(subsample=0.8,\n",
    "                            n_estimators=500,\n",
    "                            min_child_weight=5,\n",
    "                            max_depth=50,\n",
    "                            learning_rate=0.01,\n",
    "                            gamma=1.5,\n",
    "                            colsample_bytree=0.8,\n",
    "                            random_state=42)"
   ]
  },
  {
   "cell_type": "code",
   "execution_count": 24,
   "id": "stylish-probe",
   "metadata": {
    "scrolled": false
   },
   "outputs": [
    {
     "name": "stdout",
     "output_type": "stream",
     "text": [
      "[14:05:50] WARNING: /home/conda/feedstock_root/build_artifacts/xgboost_1607604574104/work/src/learner.cc:1061: Starting in XGBoost 1.3.0, the default evaluation metric used with the objective 'binary:logistic' was changed from 'error' to 'logloss'. Explicitly set eval_metric if you'd like to restore the old behavior.\n"
     ]
    },
    {
     "data": {
      "text/plain": [
       "XGBClassifier(base_score=0.5, booster='gbtree', colsample_bylevel=1,\n",
       "              colsample_bynode=1, colsample_bytree=0.8, gamma=1.5, gpu_id=-1,\n",
       "              importance_type='gain', interaction_constraints='',\n",
       "              learning_rate=0.01, max_delta_step=0, max_depth=50,\n",
       "              min_child_weight=5, missing=nan, monotone_constraints='()',\n",
       "              n_estimators=500, n_jobs=8, num_parallel_tree=1, random_state=42,\n",
       "              reg_alpha=0, reg_lambda=1, scale_pos_weight=1, subsample=0.8,\n",
       "              tree_method='exact', validate_parameters=1, verbosity=None)"
      ]
     },
     "execution_count": 24,
     "metadata": {},
     "output_type": "execute_result"
    }
   ],
   "source": [
    "xgb_best_clf.fit(X_train, y_train)"
   ]
  },
  {
   "cell_type": "code",
   "execution_count": 25,
   "id": "unavailable-transcription",
   "metadata": {},
   "outputs": [],
   "source": [
    "xgb_best_pred = xgb_best_clf.predict(X_val)"
   ]
  },
  {
   "cell_type": "markdown",
   "id": "judicial-ottawa",
   "metadata": {},
   "source": [
    "### F1 Score 점수가 소폭 상승했음을 알 수 있다."
   ]
  },
  {
   "cell_type": "code",
   "execution_count": 26,
   "id": "chinese-venezuela",
   "metadata": {
    "scrolled": false
   },
   "outputs": [
    {
     "data": {
      "text/plain": [
       "0.9530832219251336"
      ]
     },
     "execution_count": 26,
     "metadata": {},
     "output_type": "execute_result"
    }
   ],
   "source": [
    "f1_score(y_val, xgb_best_pred, average='micro')"
   ]
  },
  {
   "cell_type": "markdown",
   "id": "written-postcard",
   "metadata": {},
   "source": [
    "### Test Set에 적용"
   ]
  },
  {
   "cell_type": "code",
   "execution_count": 27,
   "id": "discrete-today",
   "metadata": {},
   "outputs": [],
   "source": [
    "xgb_best_pred = xgb_best_clf.predict(X_test)"
   ]
  },
  {
   "cell_type": "code",
   "execution_count": 28,
   "id": "recorded-malawi",
   "metadata": {},
   "outputs": [
    {
     "data": {
      "text/plain": [
       "0.9540858957219251"
      ]
     },
     "execution_count": 28,
     "metadata": {},
     "output_type": "execute_result"
    }
   ],
   "source": [
    "f1_score(y_test, xgb_best_pred, average='micro')"
   ]
  },
  {
   "cell_type": "markdown",
   "id": "adult-seventh",
   "metadata": {},
   "source": [
    "### | Feature Importance 파악"
   ]
  },
  {
   "cell_type": "code",
   "execution_count": 29,
   "id": "controlled-findings",
   "metadata": {
    "scrolled": false
   },
   "outputs": [
    {
     "data": {
      "image/png": "[encoded data removed]",
      "text/plain": [
       "<Figure size 432x288 with 1 Axes>"
      ]
     },
     "metadata": {
      "needs_background": "light"
     },
     "output_type": "display_data"
    }
   ],
   "source": [
    "plt.barh(X_train.columns, xgb_best_clf.feature_importances_);"
   ]
  },
  {
   "cell_type": "markdown",
   "id": "tamil-significance",
   "metadata": {},
   "source": [
    "### | Permutation Importance 파악"
   ]
  },
  {
   "cell_type": "code",
   "execution_count": 30,
   "id": "illegal-abuse",
   "metadata": {
    "scrolled": false
   },
   "outputs": [
    {
     "data": {
      "image/png": "[encoded data removed]",
      "text/plain": [
       "<Figure size 432x288 with 1 Axes>"
      ]
     },
     "metadata": {
      "needs_background": "light"
     },
     "output_type": "display_data"
    }
   ],
   "source": [
    "from sklearn.inspection import permutation_importance\n",
    "\n",
    "sk_pi = permutation_importance(xgb_best_clf, X_train, y_train)\n",
    "plt.barh(X_train.columns, sk_pi.importances_mean);"
   ]
  }
 ],
 "metadata": {
  "kernelspec": {
   "display_name": "Python 3",
   "language": "python",
   "name": "python3"
  },
  "language_info": {
   "codemirror_mode": {
    "name": "ipython",
    "version": 3
   },
   "file_extension": ".py",
   "mimetype": "text/x-python",
   "name": "python",
   "nbconvert_exporter": "python",
   "pygments_lexer": "ipython3",
   "version": "3.8.5"
  }
 },
 "nbformat": 4,
 "nbformat_minor": 5
}
